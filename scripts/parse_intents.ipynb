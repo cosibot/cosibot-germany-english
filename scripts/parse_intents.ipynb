{
 "cells": [
  {
   "cell_type": "code",
   "execution_count": 1,
   "metadata": {},
   "outputs": [],
   "source": [
    "import pandas as pd"
   ]
  },
  {
   "cell_type": "code",
   "execution_count": 4,
   "metadata": {},
   "outputs": [
    {
     "name": "stdout",
     "output_type": "stream",
     "text": [
      "                                     text             intent\n",
      "0               Have a photo of yourself?  de_bot_appearance\n",
      "1                        How do you look?  de_bot_appearance\n",
      "2       Want to show me a picture of you?  de_bot_appearance\n",
      "3  Will you show me a picture of herself?  de_bot_appearance\n",
      "4                       Show me yourself!  de_bot_appearance\n"
     ]
    }
   ],
   "source": [
    "intents = pd.read_csv('../data/cosibot-intents-de-en.csv', names=['text', 'intent'])\n",
    "print(intents.head())"
   ]
  },
  {
   "cell_type": "code",
   "execution_count": 30,
   "metadata": {},
   "outputs": [],
   "source": [
    "from collections import defaultdict\n",
    "\n",
    "intents_dict = defaultdict(list)\n",
    "for index, row in intents.iterrows(): \n",
    "    intents_dict[row[\"intent\"]].append(row[\"text\"])\n",
    "    \n",
    "\"\"\"\n",
    "## intent:greet\n",
    "- hey\n",
    "- hello\n",
    "- hi\n",
    "- good morning\n",
    "- good evening\n",
    "- hey there\n",
    "\n",
    "\"\"\"\n",
    "with open('../bot/data/nlu.md', 'w') as file:\n",
    "    for intent, texts in intents_dict.items():\n",
    "        file.write('## intent:' + intent + \"\\n\")\n",
    "        \n",
    "        for text in texts:\n",
    "            file.write('- ' + text + \"\\n\")\n",
    "    \n",
    "        file.write(\"\\n\\n\")\n",
    "    \n",
    "    "
   ]
  },
  {
   "cell_type": "code",
   "execution_count": null,
   "metadata": {},
   "outputs": [],
   "source": []
  }
 ],
 "metadata": {
  "kernelspec": {
   "display_name": "Python 3",
   "language": "python",
   "name": "python3"
  },
  "language_info": {
   "codemirror_mode": {
    "name": "ipython",
    "version": 3
   },
   "file_extension": ".py",
   "mimetype": "text/x-python",
   "name": "python",
   "nbconvert_exporter": "python",
   "pygments_lexer": "ipython3",
   "version": "3.7.4"
  }
 },
 "nbformat": 4,
 "nbformat_minor": 2
}
